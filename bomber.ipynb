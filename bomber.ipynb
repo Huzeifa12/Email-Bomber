{
 "cells": [
  {
   "cell_type": "code",
   "execution_count": null,
   "id": "a604559b",
   "metadata": {},
   "outputs": [],
   "source": [
    "import smtplib\n",
    "import passwords as pwd\n"
   ]
  },
  {
   "cell_type": "code",
   "execution_count": null,
   "id": "06713e26",
   "metadata": {},
   "outputs": [],
   "source": [
    "#print(\"ENTER YOUR EMAAIL\")my_email=str(input())\n",
    "#print(\"ENTER YOUR password\")\n",
    "#password=str(input())\n",
    "\n",
    "#print(\"ENTER YOUR receipient address\")\n",
    "#receipient=str(input())\n",
    "\n",
    "\n",
    "my_email=pwd.my_email\n",
    "password=pwd.password\n",
    "recepient=pwd.recepient\n"
   ]
  },
  {
   "cell_type": "code",
   "execution_count": 3,
   "id": "99fe543e",
   "metadata": {},
   "outputs": [],
   "source": [
    "server_connection=smtplib.SMTP(\"smtp.gmail.com\",587)\n",
    "\n"
   ]
  },
  {
   "cell_type": "code",
   "execution_count": 4,
   "id": "c8b4af48",
   "metadata": {},
   "outputs": [
    {
     "data": {
      "text/plain": [
       "(220, b'2.0.0 Ready to start TLS')"
      ]
     },
     "execution_count": 4,
     "metadata": {},
     "output_type": "execute_result"
    }
   ],
   "source": [
    "server_connection.starttls()\n"
   ]
  },
  {
   "cell_type": "code",
   "execution_count": 5,
   "id": "3df7b569",
   "metadata": {},
   "outputs": [
    {
     "data": {
      "text/plain": [
       "(235, b'2.7.0 Accepted')"
      ]
     },
     "execution_count": 5,
     "metadata": {},
     "output_type": "execute_result"
    }
   ],
   "source": [
    "server_connection.login(my_email,password)\n",
    "\n"
   ]
  },
  {
   "cell_type": "code",
   "execution_count": 6,
   "id": "b6159a84",
   "metadata": {},
   "outputs": [],
   "source": [
    "server_connection.sendmail(my_email, recepient,msg=\"Greetings\")\n",
    "\n",
    "server_connection.close()\n",
    "                           \n",
    "                           \n"
   ]
  },
  {
   "cell_type": "code",
   "execution_count": 7,
   "id": "fcab2cc6",
   "metadata": {},
   "outputs": [
    {
     "name": "stdout",
     "output_type": "stream",
     "text": [
      "hello\n"
     ]
    }
   ],
   "source": [
    "print(\"hello\")"
   ]
  },
  {
   "cell_type": "code",
   "execution_count": null,
   "id": "e85a8770",
   "metadata": {},
   "outputs": [],
   "source": []
  },
  {
   "cell_type": "code",
   "execution_count": 8,
   "id": "f87ab7f3",
   "metadata": {},
   "outputs": [],
   "source": [
    "import tkinter\n",
    "tkinter._test()"
   ]
  },
  {
   "cell_type": "code",
   "execution_count": 9,
   "id": "a826335e",
   "metadata": {},
   "outputs": [
    {
     "data": {
      "text/plain": [
       "'8.6.13'"
      ]
     },
     "execution_count": 9,
     "metadata": {},
     "output_type": "execute_result"
    }
   ],
   "source": [
    "tkinter.Tcl().eval(\"info patchlevel\")"
   ]
  },
  {
   "cell_type": "code",
   "execution_count": null,
   "id": "acc0b58b",
   "metadata": {},
   "outputs": [],
   "source": [
    "from tkinter import *\n",
    "from tkinter import ttk\n",
    "root=Tk()\n",
    "ttk.Button(root,text=\"Hello its GunDem\").grid()\n",
    "root.mainloop()"
   ]
  },
  {
   "cell_type": "code",
   "execution_count": null,
   "id": "a4fdb2af",
   "metadata": {},
   "outputs": [
    {
     "ename": "IndentationError",
     "evalue": "unexpected indent (292357616.py, line 2)",
     "output_type": "error",
     "traceback": [
      "\u001b[1;36m  Cell \u001b[1;32mIn[11], line 2\u001b[1;36m\u001b[0m\n\u001b[1;33m    my_connection.starttls()\u001b[0m\n\u001b[1;37m    ^\u001b[0m\n\u001b[1;31mIndentationError\u001b[0m\u001b[1;31m:\u001b[0m unexpected indent\n"
     ]
    }
   ],
   "source": [
    "\n",
    "\n",
    "my_connection=smtplib.SMTP(\"smtp.gmail.com\",587)\n",
    "my_connection.starttls()\n",
    "my_connection.login(email,password)\n",
    "a=0\n",
    "while a<=10:\n",
    "    my_connection.sendmail(email,recipient_email,my_msg)\n",
    "        \n",
    "my_connection.close()\n",
    "    "
   ]
  },
  {
   "cell_type": "code",
   "execution_count": null,
   "id": "1ddc0003",
   "metadata": {},
   "outputs": [],
   "source": [
    "import smtplib"
   ]
  },
  {
   "cell_type": "code",
   "execution_count": null,
   "id": "a2721ea3",
   "metadata": {},
   "outputs": [],
   "source": [
    "import smtplib\n",
    "from tkinter import *\n",
    "\n",
    "root=None\n",
    "emailText=None\n",
    "passwordText=None\n",
    "recipientEmailText=None\n",
    "mey_msgText=None\n",
    "UpdateText=None\n",
    "\n",
    "\n",
    "\n",
    "def bomber():\n",
    "    email=emailText.get()\n",
    "    r_email=recipientEmailText.get()\n",
    "    password=passwordText.get()\n",
    "    message=my_msgText.get()\n",
    "    \n",
    "    my_connection=smtplib.SMTP(\"smtp.gmail.com\",587)\n",
    "    my_connection.starttls()\n",
    "    my_connection.login(email,password)\n",
    "    a=1\n",
    "    while a<20:\n",
    "        my_connection.sendmail(email,r_email,message)\n",
    "        updateText.set(f\"You have bombed  for {a} time(s)\")\n",
    "        a+=1\n",
    "        \n",
    "    my_connection.close()\n",
    "    \n",
    "    print(\"Hello\")\n",
    "    \n",
    "    \n",
    "def emailEntry():\n",
    "    global emailText\n",
    "    emailLabel=Label(root,text=\"ENTER EMAIL\")\n",
    "    emailLabel.pack()\n",
    "    emailText=Entry(root)\n",
    "    email=emailText.get()\n",
    "    emailText.pack()\n",
    "    \n",
    "    \n",
    "    \n",
    "def passwordEntry():\n",
    "    global passwordText\n",
    "    passwordLabel=Label(root,text=\"ENTER PASSWORD\")\n",
    "    passwordLabel.pack()\n",
    "    passwordText=Entry(root)\n",
    "    passwordText.pack()\n",
    "    password=passwordText.get()\n",
    "        \n",
    "def recipientEmailEntry():\n",
    "    global recipientEmailText\n",
    "    recipientEmailLabel=Label(root,text=\"ENTER RECIPIENT EMAIL HERE\")\n",
    "    recipientEmailLabel.pack()\n",
    "    recipientEmailText=Entry(root)\n",
    "    recipientEmailText.pack()\n",
    "    recipient_email=recipientEmailText.get()\n",
    "    \n",
    "def messageEntry():\n",
    "    global my_msgText\n",
    "    \n",
    "    messageLabel=Label(root, text=\"ENTER MESSAGE HERE\")\n",
    "    messageLabel.pack()\n",
    "    my_msgText=Entry(root)\n",
    "    my_msgText.pack()\n",
    "    \n",
    "def updateBarEntry():\n",
    "    global updateText\n",
    "    \n",
    "    updateText=StringVar()\n",
    "    updateText.set(\"\")\n",
    "    updateLabel=Label(root, textvariable=updateText)\n",
    "    updateLabel.pack()\n",
    "    \n",
    "    \n",
    "    \n",
    "def main():\n",
    "    \n",
    "    root=Tk()\n",
    "    emailEntry()\n",
    "    passwordEntry()\n",
    "    recipientEmailEntry()\n",
    "    messageEntry()\n",
    "    \n",
    "    my_botton=Button(root,text=\"Bomb\" ,command=bomber)\n",
    "    my_botton.pack()\n",
    "    updateBarEntry()\n",
    "    root.mainloop()\n",
    "    \n",
    "   \n",
    "\n",
    "main()\n",
    "\n"
   ]
  },
  {
   "cell_type": "code",
   "execution_count": null,
   "id": "30d5b74e",
   "metadata": {},
   "outputs": [],
   "source": [
    "print (email)"
   ]
  },
  {
   "cell_type": "code",
   "execution_count": null,
   "id": "0875b8af",
   "metadata": {},
   "outputs": [],
   "source": [
    "email=emailText.get()\n",
    "r_email=input()\n",
    "password=input()\n",
    "message=input()\n",
    "    \n",
    "my_connection=smtplib.SMTP(\"smtp.gmail.com\",587)\n",
    "my_connection.starttls()\n",
    "my_connection.login(email,password)\n",
    "a=1\n",
    "while a<20:\n",
    "    my_connection.sendmail(email,r_email,message)\n",
    "    count+=1\n",
    "my_connection.close()\n",
    "    \n",
    "print(\"Hello\")\n",
    "    "
   ]
  },
  {
   "cell_type": "code",
   "execution_count": null,
   "id": "df8d036c",
   "metadata": {},
   "outputs": [],
   "source": [
    "t=input()\n",
    "print(type(t))"
   ]
  },
  {
   "cell_type": "code",
   "execution_count": null,
   "id": "9c9cfb7b",
   "metadata": {},
   "outputs": [],
   "source": [
    "a=0\n",
    "while a<20:\n",
    "    a+=1\n",
    "    print(a)"
   ]
  },
  {
   "cell_type": "code",
   "execution_count": null,
   "id": "b1ef1415",
   "metadata": {},
   "outputs": [],
   "source": [
    "print(\"a\")"
   ]
  },
  {
   "cell_type": "code",
   "execution_count": 2,
   "id": "032365df",
   "metadata": {},
   "outputs": [
    {
     "name": "stdout",
     "output_type": "stream",
     "text": [
      "15.0\n"
     ]
    }
   ],
   "source": [
    "lambdatest=lambda a:a/2\n",
    "test=lambdatest(30)\n",
    "print(test)"
   ]
  },
  {
   "cell_type": "code",
   "execution_count": null,
   "id": "d482f557",
   "metadata": {},
   "outputs": [],
   "source": []
  }
 ],
 "metadata": {
  "kernelspec": {
   "display_name": "Python 3 (ipykernel)",
   "language": "python",
   "name": "python3"
  },
  "language_info": {
   "codemirror_mode": {
    "name": "ipython",
    "version": 3
   },
   "file_extension": ".py",
   "mimetype": "text/x-python",
   "name": "python",
   "nbconvert_exporter": "python",
   "pygments_lexer": "ipython3",
   "version": "3.12.2"
  }
 },
 "nbformat": 4,
 "nbformat_minor": 5
}
